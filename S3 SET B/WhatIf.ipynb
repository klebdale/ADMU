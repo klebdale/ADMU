{
 "cells": [
  {
   "cell_type": "code",
   "execution_count": 31,
   "id": "96482b03-cd6b-4d9e-a84e-0c1008a0a3e1",
   "metadata": {},
   "outputs": [
    {
     "name": "stdout",
     "output_type": "stream",
     "text": [
      "Original string: AZAAAZAZ\n",
      "['AZA', 'AAA', 'ZAAAZ', 'AZAAAZA', 'ZAZ']\n",
      "5\n"
     ]
    }
   ],
   "source": [
    "def find_palindromes_in_sub_string(input, j, k):\n",
    "    count = 0\n",
    "    global output\n",
    "    \n",
    "    while j >= 0 and k < len(input):\n",
    "        if input[j] != input[k]:\n",
    "            break\n",
    "        if len(input[j: k+1]) > 2:\n",
    "            output.append(input[j: k+1])\n",
    "        count += 1\n",
    "        j -= 1\n",
    "        k += 1\n",
    "    return count\n",
    "\n",
    "def find_all_palindrome_substrings(input):\n",
    "    count = 0\n",
    "    for i in range(0, len(input)):\n",
    "        count += find_palindromes_in_sub_string(input, i - 1, i + 1)\n",
    "        count += find_palindromes_in_sub_string(input, i, i + 1)\n",
    "    return count\n",
    "\n",
    "##Input: List of values\n",
    "#Output: Count of palindromic segments\n",
    "#Assumptions: Palindrome segments minimum length is 3\n",
    "\n",
    "input_string = [5,6,1,3,6,7,3,6,1] #len = 9\n",
    "up_down_val = \"\" #len = 9-1\n",
    "output = []\n",
    "\n",
    "for i in range(1,len(input_string)):\n",
    "    #A = upward, O = equal, Z = downward\n",
    "    if input_string[i] - input_string[i-1] > 0: up_down_val += \"A\"\n",
    "    elif input_string[i] - input_string[i-1] == 0: up_down_val += \"O\"\n",
    "    elif input_string[i] - input_string[i-1] < 0: up_down_val += \"Z\"\n",
    "        \n",
    "print(\"Original string: \" + up_down_val)      \n",
    "find_all_palindrome_substrings(up_down_val)\n",
    "#Removing Duplicates\n",
    "print(list(dict.fromkeys(output)))\n",
    "print(len(list(dict.fromkeys(output))))"
   ]
  },
  {
   "cell_type": "code",
   "execution_count": null,
   "id": "8f4d3721-24e9-4f96-94ad-82365714b255",
   "metadata": {},
   "outputs": [],
   "source": []
  },
  {
   "cell_type": "code",
   "execution_count": null,
   "id": "a5ca2f7f-1f18-4c55-b74e-b86921f4f501",
   "metadata": {},
   "outputs": [],
   "source": []
  }
 ],
 "metadata": {
  "kernelspec": {
   "display_name": "Python 3",
   "language": "python",
   "name": "python3"
  },
  "language_info": {
   "codemirror_mode": {
    "name": "ipython",
    "version": 3
   },
   "file_extension": ".py",
   "mimetype": "text/x-python",
   "name": "python",
   "nbconvert_exporter": "python",
   "pygments_lexer": "ipython3",
   "version": "3.8.8"
  }
 },
 "nbformat": 4,
 "nbformat_minor": 5
}
