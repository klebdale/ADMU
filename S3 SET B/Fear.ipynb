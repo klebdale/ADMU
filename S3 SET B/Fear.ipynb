{
 "cells": [
  {
   "cell_type": "code",
   "execution_count": 146,
   "id": "80076eea-b1b3-4b85-947e-1c6d7ce6e99b",
   "metadata": {},
   "outputs": [
    {
     "name": "stdout",
     "output_type": "stream",
     "text": [
      "[3]\n",
      "[3, 4]\n",
      "[3, 4, 1]\n",
      "[3, 6]\n"
     ]
    },
    {
     "name": "stderr",
     "output_type": "stream",
     "text": [
      "<ipython-input-146-ea080fd1231f>:59: VisibleDeprecationWarning: Creating an ndarray from ragged nested sequences (which is a list-or-tuple of lists-or-tuples-or ndarrays with different lengths or shapes) is deprecated. If you meant to do this, you must specify 'dtype=object' when creating the ndarray.\n",
      "  x = np.unique(np.array(routes))\n"
     ]
    }
   ],
   "source": [
    "import numpy as np\n",
    "routes = []\n",
    "threshold = 10\n",
    "\n",
    "def grid_traverse(mat, route, r, c, weight):\n",
    "    num_rows = len(mat)\n",
    "    num_cols = len(mat[0])\n",
    "    \n",
    "    #adds weight of next path\n",
    "    weight += mat[r][c]\n",
    "    \n",
    "    #2 Base Cases: If threshold is breached or \n",
    "    #If it's already the last cell\n",
    "    if weight >= threshold:\n",
    "        routes.append(route.copy())\n",
    "        return\n",
    "    \n",
    "    elif (r == num_rows - 1 and c == num_cols - 1):\n",
    "        routes.append(route.copy())\n",
    "        return\n",
    "    \n",
    "    #elif len(route) == 0: return\n",
    "    \n",
    "    else:\n",
    "        route.append(mat[r][c])\n",
    "        \n",
    "        # move down\n",
    "        if r + 1 < num_rows:\n",
    "            grid_traverse(mat, route, r + 1, c, weight)\n",
    "\n",
    "        # move right\n",
    "        if c + 1 < num_cols:\n",
    "            grid_traverse(mat, route, r, c + 1, weight)\n",
    "\n",
    "        # move diagonally\n",
    "        if r + 1 < num_rows and c + 1 < num_cols:\n",
    "            grid_traverse(mat, route, r + 1, c + 1, weight)\n",
    "            \n",
    "    if route: route.pop()\n",
    "\n",
    "#Input: 2d Matrix\n",
    "#Output: List of paths\n",
    "#Assumptions: Legal Moves: To right, To down, to diagonal (right-down)\n",
    "#Solution. Use shortest-path solution, filter paths based on threshold\n",
    "mat = [\n",
    "    [3, 4, 1],\n",
    "    [6, 7, 3],\n",
    "    [1, 6, 2]\n",
    "]\n",
    "\n",
    "\n",
    "grid_traverse(mat, [], 0, 0, 0)\n",
    "\n",
    "#Problem: not sure how to slash the path from the stack\n",
    "#if the path breaches the threshold\n",
    "\n",
    "#hackish way to print unique values.\n",
    "x = np.unique(np.array(routes))\n",
    "for i in x:\n",
    "    print (i)\n",
    "\n",
    "#for r in routes:\n",
    "#    print (r)\n",
    "\n"
   ]
  },
  {
   "cell_type": "code",
   "execution_count": null,
   "id": "3267f038-5de3-4f9a-afd8-542081a0c63c",
   "metadata": {},
   "outputs": [],
   "source": []
  },
  {
   "cell_type": "code",
   "execution_count": null,
   "id": "a4bed3d9-48ba-40ba-b1ad-8cc89de8a663",
   "metadata": {},
   "outputs": [],
   "source": []
  }
 ],
 "metadata": {
  "kernelspec": {
   "display_name": "Python 3",
   "language": "python",
   "name": "python3"
  },
  "language_info": {
   "codemirror_mode": {
    "name": "ipython",
    "version": 3
   },
   "file_extension": ".py",
   "mimetype": "text/x-python",
   "name": "python",
   "nbconvert_exporter": "python",
   "pygments_lexer": "ipython3",
   "version": "3.8.8"
  }
 },
 "nbformat": 4,
 "nbformat_minor": 5
}
