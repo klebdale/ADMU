{
 "cells": [
  {
   "cell_type": "code",
   "execution_count": 21,
   "id": "cb223339-3661-43e3-9689-c57084b7cd23",
   "metadata": {},
   "outputs": [
    {
     "name": "stdout",
     "output_type": "stream",
     "text": [
      "['D', 'D', 'U', 'U', 'U', 'D', 'O', 'D', 'U', 'U']\n",
      "D U 9\n",
      "D U 8\n",
      "U D 7\n",
      "U O 6\n",
      "U D 5\n",
      "D U 4\n",
      "O U 3\n"
     ]
    }
   ],
   "source": [
    "#input: list of prices\n",
    "#output: list of date ranges where crash and recover occured\n",
    "\n",
    "input_list = [5,4,2,3,7,9,8,8,7,8,10] #len = 11\n",
    "trend_data = [] #len = 10\n",
    "output_dates = []\n",
    "    \n",
    "#Minimum window is 4\n",
    "#output is days of crash and recover\n",
    "#Assumptions: crash and recover only happens if there is symmetric up and down and there is another up\n",
    "#Palindrome approach? or zero sum approach\n",
    "\n",
    "\n",
    "#transforming into trend data (up-down)\n",
    "for i in range(1, len(input_list)):\n",
    "    #D for down, U for up, O for 0\n",
    "    if (input_list[i] - input_list[i-1]) < 0: trend_data.append(\"D\")\n",
    "    elif (input_list[i] - input_list[i-1]) > 0 : trend_data.append(\"U\")\n",
    "    else: trend_data.append(\"O\")\n",
    "        \n",
    "print(trend_data)\n",
    "\n",
    "window = len(trend_data)\n",
    "\n",
    "for i in range(0,len(trend_data)-1):\n",
    "    if i+3 <= len(trend_data)-1:\n",
    "        window -= 1\n",
    "        print(trend_data[i], trend_data[i+3], window)"
   ]
  },
  {
   "cell_type": "code",
   "execution_count": null,
   "id": "dbdf7ac9-9464-4188-a60b-dc6469d2ce0e",
   "metadata": {},
   "outputs": [],
   "source": []
  }
 ],
 "metadata": {
  "kernelspec": {
   "display_name": "Python 3",
   "language": "python",
   "name": "python3"
  },
  "language_info": {
   "codemirror_mode": {
    "name": "ipython",
    "version": 3
   },
   "file_extension": ".py",
   "mimetype": "text/x-python",
   "name": "python",
   "nbconvert_exporter": "python",
   "pygments_lexer": "ipython3",
   "version": "3.8.8"
  }
 },
 "nbformat": 4,
 "nbformat_minor": 5
}
